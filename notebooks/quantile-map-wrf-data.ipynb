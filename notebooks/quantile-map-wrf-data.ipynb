{
 "cells": [
  {
   "cell_type": "code",
   "execution_count": 1,
   "metadata": {},
   "outputs": [],
   "source": [
    "import os \n",
    "import glob \n",
    "\n",
    "import numpy as np\n",
    "import pandas as pd\n",
    "import xarray as xr\n",
    "import netCDF4\n",
    "from math import sqrt\n",
    "\n",
    "from metpy.calc import wind_speed\n",
    "from metpy.calc import wind_direction \n",
    "from metpy.units import units\n",
    "\n",
    "from scipy import interpolate\n",
    "\n",
    "import matplotlib.pyplot as plt\n",
    "from   matplotlib.lines import Line2D\n",
    "import seaborn as sns\n",
    "\n",
    "sns.set_theme(style=\"whitegrid\")"
   ]
  },
  {
   "cell_type": "markdown",
   "metadata": {},
   "source": [
    "# Functions"
   ]
  },
  {
   "cell_type": "markdown",
   "metadata": {},
   "source": [
    "## Read in Data "
   ]
  },
  {
   "cell_type": "code",
   "execution_count": 2,
   "metadata": {},
   "outputs": [],
   "source": [
    "def prep_wrf_data(fpath, var_name_dict, site):\n",
    "    df = pd.read_pickle(fpath)\n",
    "    df['T2'] = df['T2'] - 273  # Convert C to K\n",
    "    df.index = df.index - pd.Timedelta(hours = 8)  # UTC to PST\n",
    "    df = get_wind(df)  # Calc wind direction/speed\n",
    "    df.rename(columns=var_name_dict, inplace=True)\n",
    "    \n",
    "    df.attrs['site'] = site\n",
    "    df.attrs['source'] = 'wrf'\n",
    "    \n",
    "    return df\n",
    "\n",
    "def prep_obs_data(fpath, site):\n",
    "    df = pd.read_csv(fpath, index_col='time (PST)')\n",
    "    df.index = pd.to_datetime(df.index)\n",
    "    \n",
    "    df.attrs['site'] = site\n",
    "    df.attrs['source'] = 'obs'\n",
    "    \n",
    "    return df"
   ]
  },
  {
   "cell_type": "markdown",
   "metadata": {},
   "source": [
    "## Calculations"
   ]
  },
  {
   "cell_type": "code",
   "execution_count": 3,
   "metadata": {},
   "outputs": [],
   "source": [
    "def get_wind(df): \n",
    "    u = df['U10'].values * units('m/s')\n",
    "    v = df['V10'].values * units('m/s')\n",
    "\n",
    "    df['WND_SPD'] = wind_speed(u,v)\n",
    "    df['WND_DIR'] = wind_direction(u, v, convention='from')\n",
    "    \n",
    "    return df\n",
    "\n",
    "def quantile_map(wrf_series, obs_series):\n",
    "    quantiles = np.arange(.1, 1, .1)\n",
    "\n",
    "    obs_quantiles = obs_series.quantile(quantiles)\n",
    "    wrf_quantiles = wrf_series.quantile(quantiles)\n",
    "    \n",
    "    correction_function = interpolate.interp1d(wrf_quantiles, obs_quantiles,\n",
    "                                           bounds_error=False, fill_value=\"extrapolate\")\n",
    "    corrected = correction_function(wrf_series)\n",
    "    \n",
    "    return corrected"
   ]
  },
  {
   "cell_type": "markdown",
   "metadata": {},
   "source": [
    "# Read in and Prepare Data"
   ]
  },
  {
   "cell_type": "code",
   "execution_count": 4,
   "metadata": {},
   "outputs": [],
   "source": [
    "var_name_dict = {\n",
    "    'DFGDP' : 'fog drip',\n",
    "    'T2' : 'air temperature (C)',\n",
    "    'RH' : 'relative humidity (%)',\n",
    "    'WND_SPD' : 'wind speed (m/s)',\n",
    "    'WND_DIR' : 'wind direction (deg)'\n",
    "}\n",
    "\n",
    "#### WRF file paths ####\n",
    "wdatadir = '/home/patmccornack/data/wrf_extracted/single_pixel'\n",
    "wsauc_fname = 'wrf_sauc_2003-2010.pkl'\n",
    "wupem_fname = 'wrf_upem_2003-2010.pkl'\n",
    "wnrs_sci_fname = 'wrf_nrs_sci_2014-2019.pkl'\n",
    "\n",
    "#### Obs file paths ####\n",
    "odatadir = '/home/patmccornack/data/preprocessed'\n",
    "osauc_fname = 'SAUC_hourly.csv'\n",
    "oupem_fname = 'UPEM_hourly.csv'\n",
    "onrs_sci_fname = 'NRS_SCI_hourly.csv'\n",
    "\n",
    "#### Read in data ####\n",
    "wsauc = prep_wrf_data(os.path.join(wdatadir, wsauc_fname), var_name_dict, site='Sauces Canyon')\n",
    "wupem = prep_wrf_data(os.path.join(wdatadir, wupem_fname), var_name_dict, site='Upper Embudo Canyon')\n",
    "wnrs_sci = prep_wrf_data(os.path.join(wdatadir, wnrs_sci_fname), var_name_dict, site='NRS SCI')\n",
    "\n",
    "osauc = prep_obs_data(os.path.join(odatadir, osauc_fname), site='Sauces Canyon')\n",
    "oupem = prep_obs_data(os.path.join(odatadir, oupem_fname), site='Upper Embudo Canyon')\n",
    "onrs_sci = prep_obs_data(os.path.join(odatadir, onrs_sci_fname), site='NRS SCI')"
   ]
  },
  {
   "cell_type": "code",
   "execution_count": 12,
   "metadata": {},
   "outputs": [
    {
     "data": {
      "text/html": [
       "<div>\n",
       "<style scoped>\n",
       "    .dataframe tbody tr th:only-of-type {\n",
       "        vertical-align: middle;\n",
       "    }\n",
       "\n",
       "    .dataframe tbody tr th {\n",
       "        vertical-align: top;\n",
       "    }\n",
       "\n",
       "    .dataframe thead th {\n",
       "        text-align: right;\n",
       "    }\n",
       "</style>\n",
       "<table border=\"1\" class=\"dataframe\">\n",
       "  <thead>\n",
       "    <tr style=\"text-align: right;\">\n",
       "      <th></th>\n",
       "      <th>air temperature (C)</th>\n",
       "      <th>relative humidity (%)</th>\n",
       "      <th>wind speed (m/s)</th>\n",
       "      <th>wind direction (deg)</th>\n",
       "      <th>site</th>\n",
       "      <th>source</th>\n",
       "    </tr>\n",
       "  </thead>\n",
       "  <tbody>\n",
       "    <tr>\n",
       "      <th>2019-12-31 22:00:00</th>\n",
       "      <td>13.213333</td>\n",
       "      <td>51.555000</td>\n",
       "      <td>2.159500</td>\n",
       "      <td>19.641667</td>\n",
       "      <td>NRS SCI</td>\n",
       "      <td>obs</td>\n",
       "    </tr>\n",
       "    <tr>\n",
       "      <th>2019-12-31 23:00:00</th>\n",
       "      <td>13.298333</td>\n",
       "      <td>52.808333</td>\n",
       "      <td>2.273167</td>\n",
       "      <td>78.286667</td>\n",
       "      <td>NRS SCI</td>\n",
       "      <td>obs</td>\n",
       "    </tr>\n",
       "  </tbody>\n",
       "</table>\n",
       "</div>"
      ],
      "text/plain": [
       "                     air temperature (C)  relative humidity (%)  \\\n",
       "2019-12-31 22:00:00            13.213333              51.555000   \n",
       "2019-12-31 23:00:00            13.298333              52.808333   \n",
       "\n",
       "                     wind speed (m/s)  wind direction (deg)     site source  \n",
       "2019-12-31 22:00:00          2.159500             19.641667  NRS SCI    obs  \n",
       "2019-12-31 23:00:00          2.273167             78.286667  NRS SCI    obs  "
      ]
     },
     "execution_count": 12,
     "metadata": {},
     "output_type": "execute_result"
    }
   ],
   "source": [
    "# Join all into a single dataframe\n",
    "df_list = [wsauc, wupem, wnrs_sci, osauc, oupem, onrs_sci]\n",
    "for df in df_list:\n",
    "    df['site'] = df.attrs['site']\n",
    "    df['source'] = df.attrs['source']\n",
    "\n",
    "df = pd.concat(df_list, join='inner', axis=0)\n",
    "df.tail(2)"
   ]
  },
  {
   "cell_type": "markdown",
   "metadata": {},
   "source": [
    "# Define output file paths"
   ]
  },
  {
   "cell_type": "code",
   "execution_count": 13,
   "metadata": {},
   "outputs": [],
   "source": [
    "outdir = \"~/data/wrf_extracted/quantile_mapped\"\n",
    "pd.to_pickle(df.loc[df['source']=='wrf'], os.path.join(outdir, \"raw_wrf_data.pkl\"))"
   ]
  },
  {
   "cell_type": "markdown",
   "metadata": {},
   "source": [
    "# Perform quantile mapping"
   ]
  },
  {
   "cell_type": "code",
   "execution_count": 7,
   "metadata": {},
   "outputs": [],
   "source": [
    "var_list = ['air temperature (C)', 'relative humidity (%)', 'wind speed (m/s)', 'wind direction (deg)']"
   ]
  },
  {
   "cell_type": "code",
   "execution_count": 8,
   "metadata": {},
   "outputs": [],
   "source": [
    "# Map\n",
    "qmwsauc = wsauc[var_list].copy()\n",
    "for var in var_list:\n",
    "    qmwsauc[var] = quantile_map(qmwsauc[var], osauc[var])\n",
    "\n",
    "qmwupem = wupem[var_list].copy()\n",
    "for var in var_list:\n",
    "    qmwupem[var] = quantile_map(qmwupem[var], oupem[var])\n",
    "    \n",
    "qmwnrs_sci = wnrs_sci[var_list].copy()\n",
    "for var in var_list:\n",
    "    qmwnrs_sci[var] = quantile_map(qmwnrs_sci[var], onrs_sci[var])\n",
    "    \n",
    "    \n",
    "# Save out\n",
    "qmwsauc.to_pickle(os.path.join(outdir, wsauc_fname))\n",
    "qmwupem.to_pickle(os.path.join(outdir, wupem_fname))\n",
    "qmwnrs_sci.to_pickle(os.path.join(outdir, wnrs_sci_fname))"
   ]
  }
 ],
 "metadata": {
  "kernelspec": {
   "display_name": "Python 3",
   "language": "python",
   "name": "python3"
  },
  "language_info": {
   "codemirror_mode": {
    "name": "ipython",
    "version": 3
   },
   "file_extension": ".py",
   "mimetype": "text/x-python",
   "name": "python",
   "nbconvert_exporter": "python",
   "pygments_lexer": "ipython3",
   "version": "3.6.8"
  }
 },
 "nbformat": 4,
 "nbformat_minor": 4
}

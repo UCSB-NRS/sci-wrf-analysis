{
 "cells": [
  {
   "cell_type": "code",
   "execution_count": 2,
   "metadata": {},
   "outputs": [],
   "source": [
    "import os \n",
    "import glob \n",
    "\n",
    "import numpy as np\n",
    "import pandas as pd\n",
    "\n",
    "from metpy.calc import wind_speed\n",
    "from metpy.calc import wind_direction \n",
    "from metpy.units import units\n",
    "\n",
    "from scipy import interpolate\n",
    "\n",
    "import matplotlib.pyplot as plt\n",
    "from   matplotlib.lines import Line2D\n",
    "import seaborn as sns\n",
    "\n",
    "sns.set_theme(style=\"whitegrid\")"
   ]
  },
  {
   "cell_type": "markdown",
   "metadata": {},
   "source": [
    "# About\n",
    "__Author:__ Pat McCornack\n",
    "\n",
    "__Date:__ 12/26/24\n",
    "\n",
    "__Description:__   \n",
    "This is a tool to bias correct the WRF data to match the distribution of the observational data for a given set of variables.\n",
    "\n",
    "__Output:__  \n",
    "Saves out a dataframe for each site containing the bias corrected WRF data. \n",
    "\n",
    "__To Do:__  \n",
    "1. If revisited, convert this to a command line tool. "
   ]
  },
  {
   "cell_type": "markdown",
   "metadata": {},
   "source": [
    "# Functions"
   ]
  },
  {
   "cell_type": "markdown",
   "metadata": {},
   "source": [
    "## Calculations"
   ]
  },
  {
   "cell_type": "code",
   "execution_count": 3,
   "metadata": {},
   "outputs": [],
   "source": [
    "def get_wind(u, v): \n",
    "    \"\"\"\"\n",
    "    Calculates wind speed and direction from velocity components\n",
    "\n",
    "    Parameters\n",
    "    -----------\n",
    "    u : np.Series\n",
    "        The x wind component.\n",
    "    v : np.Series  \n",
    "        The y wind component. \n",
    "\n",
    "    Returns\n",
    "    -------\n",
    "    wind_speed : float\n",
    "        Calculated wind speed.\n",
    "    wind_dir : float\n",
    "        Calculated wind direction.\n",
    "    \"\"\"\n",
    "    u = u * units('m/s')\n",
    "    v = v * units('m/s')\n",
    "\n",
    "    wnd_spd = wind_speed(u,v)\n",
    "    wnd_dir = wind_direction(u, v, convention='from')\n",
    "    \n",
    "    return wnd_spd, wnd_dir\n",
    "\n",
    "def quantile_map(wrf_series, obs_series):\n",
    "    \"\"\"\n",
    "    Performs quantile mapping to correct bias in the WRF data.\n",
    "\n",
    "    Parameters\n",
    "    ----------\n",
    "    wrf_series : pd.Series\n",
    "        Series of data for a given variable extracted from the WRF output (e.g. temperature).\n",
    "    obs_series: pd.Series\n",
    "        Series of data for the same variable from the observational dataset.\n",
    "        \n",
    "    Returns\n",
    "    -------\n",
    "    pd.Series\n",
    "        The WRF series corrected using quantile mapping.\n",
    "\n",
    "\n",
    "    \"\"\"\n",
    "    quantiles = np.arange(.1, 1, .1)\n",
    "\n",
    "    obs_quantiles = obs_series.quantile(quantiles)\n",
    "    wrf_quantiles = wrf_series.quantile(quantiles)\n",
    "    \n",
    "    correction_function = interpolate.interp1d(wrf_quantiles, obs_quantiles,\n",
    "                                           bounds_error=False, fill_value=\"extrapolate\")\n",
    "    corrected = correction_function(wrf_series)\n",
    "    \n",
    "    return corrected"
   ]
  },
  {
   "cell_type": "markdown",
   "metadata": {},
   "source": [
    "## Read in Data "
   ]
  },
  {
   "cell_type": "code",
   "execution_count": 4,
   "metadata": {},
   "outputs": [
    {
     "name": "stdout",
     "output_type": "stream",
     "text": [
      "/Users/patmccornack/Documents/ucsb_fog_project/_repositories/sci-wrf-analysis\n"
     ]
    }
   ],
   "source": [
    "def prep_wrf_data(fpath, var_name_dict, site):\n",
    "    \"\"\"\n",
    "    Reads and prepares WRF data\n",
    "\n",
    "    Reads in data, convert temperature from K to C, casts index to DateTime format, calculates\n",
    "    wind speed and direction, and returns the prepared dataframe\n",
    "\n",
    "    Parameters\n",
    "    ----------\n",
    "    df_fpath : str\n",
    "        Path to file containing the data.\n",
    "    var_name_dict : dict\n",
    "        Dictionary of variable rename mappings to.\n",
    "    \n",
    "    Returns\n",
    "    -------\n",
    "    pd.Dataframe\n",
    "        The prepared dataframe. \n",
    "    \"\"\"\n",
    "    df = pd.read_pickle(fpath)\n",
    "    df['T2'] = df['T2'] - 273  # Convert K to C\n",
    "    df.index = df.index - pd.Timedelta(hours=8)  # UTC to local\n",
    "    wnd_spd, wnd_dir = get_wind(df['U10'].values, df['V10'].values)\n",
    "    df['WND_SPD'] = wnd_spd\n",
    "    df['WND_DIR'] = wnd_dir\n",
    "    df.rename(columns=var_name_dict, inplace=True)\n",
    "    \n",
    "    df.attrs['site'] = site\n",
    "    df.attrs['source'] = 'wrf'\n",
    "    \n",
    "    return df\n",
    "\n",
    "def prep_obs_data(fpath, site):\n",
    "    \"\"\"\n",
    "    Reads and prepares WRF data\n",
    "\n",
    "    Reads in data, convert temperature from K to C, casts index to DateTime format, calculates\n",
    "    wind speed and direction, and returns the prepared dataframe\n",
    "\n",
    "    Parameters\n",
    "    ----------\n",
    "    fpath : str\n",
    "        Path to file containing the data.\n",
    "    site : str \n",
    "        The site the data corresponds to.\n",
    "\n",
    "    Returns\n",
    "    -------\n",
    "    pd.Dataframe\n",
    "        The prepared dataframe. \n",
    "    \"\"\"\n",
    "    df = pd.read_csv(fpath, index_col='time (PST)')\n",
    "    df.index = pd.to_datetime(df.index)\n",
    "    \n",
    "    df.attrs['site'] = site\n",
    "    df.attrs['source'] = 'obs'\n",
    "    \n",
    "    return df\n",
    "\n",
    "# Set up working directory - adjust this to where the repo is stored locally\n",
    "%cd '/Users/patmccornack/Documents/ucsb_fog_project/_repositories/sci-wrf-analysis'"
   ]
  },
  {
   "cell_type": "markdown",
   "metadata": {},
   "source": [
    "# Read in and Prepare Data"
   ]
  },
  {
   "cell_type": "code",
   "execution_count": 7,
   "metadata": {},
   "outputs": [],
   "source": [
    "var_name_dict = {\n",
    "    'DFGDP' : 'fog drip',\n",
    "    'T2' : 'air temperature (C)',\n",
    "    'RH' : 'relative humidity (%)',\n",
    "    'WND_SPD' : 'wind speed (m/s)',\n",
    "    'WND_DIR' : 'wind direction (deg)'\n",
    "}\n",
    "\n",
    "#### WRF file paths ####\n",
    "wdatadir = './data/wrf-extracted/single-pixel'\n",
    "wsauc_fname = 'wrf-sauc-2003-2010.pkl'\n",
    "wupem_fname = 'wrf-upem-2003-2010.pkl'\n",
    "wnrs_sci_fname = 'wrf-nrs-2014-2019.pkl'\n",
    "\n",
    "#### Obs file paths ####\n",
    "odatadir = './data/observational'\n",
    "osauc_fname = 'sauc-hourly.csv'\n",
    "oupem_fname = 'upem-hourly.csv'\n",
    "onrs_sci_fname = 'nrs-hourly.csv'\n",
    "\n",
    "#### Read in data ####\n",
    "wsauc = prep_wrf_data(os.path.join(wdatadir, wsauc_fname), var_name_dict, site='Sauces Canyon')\n",
    "wupem = prep_wrf_data(os.path.join(wdatadir, wupem_fname), var_name_dict, site='Upper Embudo Canyon')\n",
    "wnrs_sci = prep_wrf_data(os.path.join(wdatadir, wnrs_sci_fname), var_name_dict, site='NRS SCI')\n",
    "\n",
    "osauc = prep_obs_data(os.path.join(odatadir, osauc_fname), site='Sauces Canyon')\n",
    "oupem = prep_obs_data(os.path.join(odatadir, oupem_fname), site='Upper Embudo Canyon')\n",
    "onrs_sci = prep_obs_data(os.path.join(odatadir, onrs_sci_fname), site='NRS SCI')"
   ]
  },
  {
   "cell_type": "code",
   "execution_count": 12,
   "metadata": {},
   "outputs": [
    {
     "data": {
      "text/html": [
       "<div>\n",
       "<style scoped>\n",
       "    .dataframe tbody tr th:only-of-type {\n",
       "        vertical-align: middle;\n",
       "    }\n",
       "\n",
       "    .dataframe tbody tr th {\n",
       "        vertical-align: top;\n",
       "    }\n",
       "\n",
       "    .dataframe thead th {\n",
       "        text-align: right;\n",
       "    }\n",
       "</style>\n",
       "<table border=\"1\" class=\"dataframe\">\n",
       "  <thead>\n",
       "    <tr style=\"text-align: right;\">\n",
       "      <th></th>\n",
       "      <th>air temperature (C)</th>\n",
       "      <th>relative humidity (%)</th>\n",
       "      <th>wind speed (m/s)</th>\n",
       "      <th>wind direction (deg)</th>\n",
       "      <th>site</th>\n",
       "      <th>source</th>\n",
       "    </tr>\n",
       "  </thead>\n",
       "  <tbody>\n",
       "    <tr>\n",
       "      <th>2019-12-31 22:00:00</th>\n",
       "      <td>13.213333</td>\n",
       "      <td>51.555000</td>\n",
       "      <td>2.159500</td>\n",
       "      <td>19.641667</td>\n",
       "      <td>NRS SCI</td>\n",
       "      <td>obs</td>\n",
       "    </tr>\n",
       "    <tr>\n",
       "      <th>2019-12-31 23:00:00</th>\n",
       "      <td>13.298333</td>\n",
       "      <td>52.808333</td>\n",
       "      <td>2.273167</td>\n",
       "      <td>78.286667</td>\n",
       "      <td>NRS SCI</td>\n",
       "      <td>obs</td>\n",
       "    </tr>\n",
       "  </tbody>\n",
       "</table>\n",
       "</div>"
      ],
      "text/plain": [
       "                     air temperature (C)  relative humidity (%)  \\\n",
       "2019-12-31 22:00:00            13.213333              51.555000   \n",
       "2019-12-31 23:00:00            13.298333              52.808333   \n",
       "\n",
       "                     wind speed (m/s)  wind direction (deg)     site source  \n",
       "2019-12-31 22:00:00          2.159500             19.641667  NRS SCI    obs  \n",
       "2019-12-31 23:00:00          2.273167             78.286667  NRS SCI    obs  "
      ]
     },
     "execution_count": 12,
     "metadata": {},
     "output_type": "execute_result"
    }
   ],
   "source": [
    "# Join all into a single dataframe\n",
    "df_list = [wsauc, wupem, wnrs_sci, osauc, oupem, onrs_sci]\n",
    "for df in df_list:\n",
    "    df['site'] = df.attrs['site']\n",
    "    df['source'] = df.attrs['source']\n",
    "\n",
    "df = pd.concat(df_list, join='inner', axis=0)\n",
    "df.tail(2)"
   ]
  },
  {
   "cell_type": "markdown",
   "metadata": {},
   "source": [
    "# Define output file paths"
   ]
  },
  {
   "cell_type": "code",
   "execution_count": 13,
   "metadata": {},
   "outputs": [],
   "source": [
    "outdir = \"~/data/wrf-extracted/quantile-mapped\"\n",
    "pd.to_pickle(df.loc[df['source']=='wrf'], os.path.join(outdir, \"wrf-qm-nrs-sauc-upem.pkl\"))"
   ]
  },
  {
   "cell_type": "markdown",
   "metadata": {},
   "source": [
    "# Perform quantile mapping\n",
    "Correct the WRF data distribution for each variable in var_list using quantile mapping."
   ]
  },
  {
   "cell_type": "code",
   "execution_count": 7,
   "metadata": {},
   "outputs": [],
   "source": [
    "var_list = ['air temperature (C)', 'relative humidity (%)', 'wind speed (m/s)', 'wind direction (deg)']"
   ]
  },
  {
   "cell_type": "code",
   "execution_count": 8,
   "metadata": {},
   "outputs": [],
   "source": [
    "# Map\n",
    "qmwsauc = wsauc[var_list].copy()\n",
    "for var in var_list:\n",
    "    qmwsauc[var] = quantile_map(qmwsauc[var], osauc[var])\n",
    "\n",
    "qmwupem = wupem[var_list].copy()\n",
    "for var in var_list:\n",
    "    qmwupem[var] = quantile_map(qmwupem[var], oupem[var])\n",
    "    \n",
    "qmwnrs_sci = wnrs_sci[var_list].copy()\n",
    "for var in var_list:\n",
    "    qmwnrs_sci[var] = quantile_map(qmwnrs_sci[var], onrs_sci[var])\n",
    "    \n",
    "    \n",
    "# Save out\n",
    "qmwsauc.to_pickle(os.path.join(outdir, wsauc_fname))\n",
    "qmwupem.to_pickle(os.path.join(outdir, wupem_fname))\n",
    "qmwnrs_sci.to_pickle(os.path.join(outdir, wnrs_sci_fname))"
   ]
  }
 ],
 "metadata": {
  "kernelspec": {
   "display_name": "data-analysis",
   "language": "python",
   "name": "python3"
  },
  "language_info": {
   "codemirror_mode": {
    "name": "ipython",
    "version": 3
   },
   "file_extension": ".py",
   "mimetype": "text/x-python",
   "name": "python",
   "nbconvert_exporter": "python",
   "pygments_lexer": "ipython3",
   "version": "3.13.1"
  }
 },
 "nbformat": 4,
 "nbformat_minor": 4
}

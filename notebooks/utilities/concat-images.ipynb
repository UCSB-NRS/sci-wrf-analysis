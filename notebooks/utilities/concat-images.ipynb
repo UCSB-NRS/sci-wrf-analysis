{
 "cells": [
  {
   "cell_type": "code",
   "execution_count": 65,
   "metadata": {},
   "outputs": [],
   "source": [
    "import cv2\n",
    "from PIL import Image\n",
    "import os\n",
    "import glob\n",
    "import re"
   ]
  },
  {
   "cell_type": "code",
   "execution_count": 66,
   "metadata": {},
   "outputs": [],
   "source": [
    "# Good Events\n",
    "cld_dir = '/Users/patmccornack/Documents/ucsb_fog_project/_repositories/sci-wrf-analysis/outputs/spatial-analysis-figs/wrf-clouds-sci/bad_event/'\n",
    "ts_dir = '/Users/patmccornack/Documents/ucsb_fog_project/_repositories/sci-wrf-analysis/outputs/spatial-analysis-figs/obs-timeseries-08-23_08-25/'\n",
    "\n",
    "ts_files = [os.path.basename(x) for x in glob.glob(ts_dir + '*.png')]\n",
    "ts_files = sorted(ts_files, key=lambda x: int(re.match(r'(\\d+)-', x).group(1)))\n",
    "\n",
    "cld_files = [os.path.basename(x) for x in glob.glob(cld_dir + '*Fog.*.png')]\n",
    "cld_files = sorted(cld_files)"
   ]
  },
  {
   "cell_type": "code",
   "execution_count": 67,
   "metadata": {},
   "outputs": [],
   "source": [
    "outdir = '/Users/patmccornack/Documents/ucsb_fog_project/_repositories/sci-wrf-analysis/outputs/spatial-analysis-figs/ts-cld-combined'\n",
    "\n",
    "for i in range(len(cld_files)):\n",
    "    cld_img = cv2.imread(os.path.join(cld_dir, cld_files[i]))\n",
    "    ts_img = cv2.imread(os.path.join(ts_dir, ts_files[i]))\n",
    "\n",
    "    concat_img = cv2.vconcat([ts_img, cld_img])\n",
    "\n",
    "    outfpath = os.path.join(outdir, ts_files[i])\n",
    "    cv2.imwrite(outfpath, concat_img)\n"
   ]
  },
  {
   "cell_type": "code",
   "execution_count": 68,
   "metadata": {},
   "outputs": [
    {
     "data": {
      "text/plain": [
       "'/Users/patmccornack/Documents/ucsb_fog_project/_repositories/sci-wrf-analysis/outputs/spatial-analysis-figs/ts-cld-combined/48-sauc-2008-08-25 16:00:00.png'"
      ]
     },
     "execution_count": 68,
     "metadata": {},
     "output_type": "execute_result"
    },
    {
     "ename": "",
     "evalue": "",
     "output_type": "error",
     "traceback": [
      "\u001b[1;31mThe Kernel crashed while executing code in the current cell or a previous cell. \n",
      "\u001b[1;31mPlease review the code in the cell(s) to identify a possible cause of the failure. \n",
      "\u001b[1;31mClick <a href='https://aka.ms/vscodeJupyterKernelCrash'>here</a> for more info. \n",
      "\u001b[1;31mView Jupyter <a href='command:jupyter.viewOutput'>log</a> for further details."
     ]
    }
   ],
   "source": [
    "outfpath"
   ]
  }
 ],
 "metadata": {
  "kernelspec": {
   "display_name": "data-analysis",
   "language": "python",
   "name": "python3"
  },
  "language_info": {
   "codemirror_mode": {
    "name": "ipython",
    "version": 3
   },
   "file_extension": ".py",
   "mimetype": "text/x-python",
   "name": "python",
   "nbconvert_exporter": "python",
   "pygments_lexer": "ipython3",
   "version": "3.13.1"
  }
 },
 "nbformat": 4,
 "nbformat_minor": 2
}

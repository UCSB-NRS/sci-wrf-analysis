{
 "cells": [
  {
   "cell_type": "markdown",
   "metadata": {
    "tags": []
   },
   "source": [
    "# Extract WRF Data\n",
    "__Author__: Pat McCornack\n",
    "\n",
    "__Date__: 11-22-24\n",
    "\n",
    "__Description__: Extracts WRF data for specified site coordinates for comparison with observational data. Outputs extracted data as pickled dataframe. \n",
    "\n",
    "__Site Coordinates__: \n",
    "- Sauces:  34° 0'3.72\"N, 119°49'4.14\"W (LAT: 34.001033, LONG: -119.817817)\n",
    "- UPEM:  34° 0'45.11\"N, 119°48'6.58\"W (LAT: 34.012531, LONG: -119.801828)\n",
    "- NRS SCI: LAT: 33.995943, LONG: -119.716437\n"
   ]
  },
  {
   "cell_type": "code",
   "execution_count": null,
   "metadata": {},
   "outputs": [],
   "source": [
    "import os \n",
    "import glob \n",
    "\n",
    "import numpy as np\n",
    "import pandas as pd\n",
    "import xarray as xr\n",
    "import netCDF4\n",
    "\n",
    "import matplotlib.pyplot as plt\n",
    "from   matplotlib.lines import Line2D"
   ]
  },
  {
   "cell_type": "markdown",
   "metadata": {},
   "source": [
    "# Functions"
   ]
  },
  {
   "cell_type": "code",
   "execution_count": null,
   "metadata": {},
   "outputs": [],
   "source": [
    "def build_np_stack(files, np_stack, caldata, var):\n",
    "    #### Build np stack of rasters ####\n",
    "    for m in range(len(files)):\n",
    "        #print (files[m])\n",
    "        f2 = xr.open_dataset(files[m])\n",
    "        f2 = f2[[var, 'Times']]\n",
    "\n",
    "        # Get start date in file\n",
    "        tot = len(f2['Times'].values)  # how many hours\n",
    "        tmp = str(f2['Times'][0].values)  # Get first datetime\n",
    "        tmp = tmp[2:-1]\n",
    "        xd1 = tmp.replace('_', ' ')\n",
    "\n",
    "        # Get end date in file\n",
    "        tmp = str(f2['Times'][tot-1].values)\n",
    "        tmp = tmp[2:-1]\n",
    "        xd2 = tmp.replace('_', ' ')\n",
    "\n",
    "        # Get indexes from calendar that match start/end dates\n",
    "        id1 = np.squeeze(np.where(caldata == xd1))\n",
    "        id2 = np.squeeze(np.where(caldata == xd2)  )\n",
    "\n",
    "        # Create stack of rasters indexed according to calendar and trimmed by geographic bounds\n",
    "        f2 = f2[var]\n",
    "        np_stack[id1:id2+1,:,:] = f2[:,i1:i2+1,j1:j2+1]\n",
    "\n",
    "    return np_stack\n",
    "\n",
    "def interp_value(xrstack, dist, target_lat, target_lon):\n",
    "    # Assign labels to coords\n",
    "    ds = xrstack\n",
    "    lats = ds['XLAT'].values[:,0]\n",
    "    lons = ds['XLONG'][0]\n",
    "\n",
    "    ds = ds.assign_coords({'south_north':('south_north', lats)})\n",
    "    ds = ds.assign_coords({'west_east':('west_east', lons)})\n",
    "\n",
    "    # Find 4 nearest points to target\n",
    "    flat_indices = np.argsort(dist.ravel())[:3]\n",
    "    indices = np.unravel_index(flat_indices, dist.shape)\n",
    "\n",
    "    # Get bounding box to crop dataset\n",
    "    near_lats = ds['XLAT'].values[indices[0], indices[1]]\n",
    "    near_lons = ds['XLONG'].values[indices[0], indices[1]]\n",
    "\n",
    "    max_lat = np.max(near_lats)\n",
    "    min_lat = np.min(near_lats)\n",
    "    max_lon = np.max(near_lons)\n",
    "    min_lon = np.min(near_lons)\n",
    "\n",
    "    # Crop dataset to locality of target\n",
    "    ds_local = ds.sel(south_north=slice(min_lat,max_lat), west_east=slice(min_lon,max_lon))\n",
    "\n",
    "    # Interpolate using local dataset\n",
    "    interp_value = ds_local.interp(south_north=target_lat, west_east=target_lon, method='linear')\n",
    "\n",
    "    return interp_value\n",
    "\n",
    "\n",
    "def extract_dataframe(xrstack, terrain, xlat, xlon, interp):\n",
    "    # Find closest WRF cell to station\n",
    "    slat = xrstack['XLAT'].values\n",
    "    slon = xrstack['XLONG'].values\n",
    "    dist = np.sqrt((slat - xlat)**2 + (slon - xlon)**2)\n",
    "    ind  = np.unravel_index(np.argmin(dist, axis=None), dist.shape)\n",
    "    np.shape(slat),np.shape(slon),np.shape(dist),ind\n",
    "    \n",
    "    # Extract data - interpolate or use nearest neighbor\n",
    "    if interp == True:\n",
    "        darray = interp_value(xrstack, dist, xlat, xlon)\n",
    "        # Drop variables\n",
    "        darray = darray.drop('south_north')\n",
    "        darray = darray.drop('west_east')\n",
    "    else:\n",
    "        darray = xrstack[:,ind[0],ind[1]]\n",
    "        \n",
    "    darray  = darray.drop('XLAT')\n",
    "    darray  = darray.drop('XLONG')\n",
    "    df = darray.to_dataframe()\n",
    "    elev = terrain[ind[0],ind[1]].values\n",
    "    return df\n",
    "\n",
    "\n",
    "def calc_RH(T2, PSFC, Q2):\n",
    "    T2 = T2 - 273  # Convert from K to C\n",
    "    PSFC = PSFC / 100  # Convert from Pa to hPa\n",
    "    es = 6.11 * 10**((7.5*T2)/(T2+237.3))\n",
    "    qs = 0.622 * es/(PSFC-0.378*es)\n",
    "    rh2 = 100 * Q2/qs\n",
    "\n",
    "    return rh2\n",
    "\n",
    "#### Create calendar data for years to extract ####\n",
    "def create_cal(yr1, yr2):\n",
    "    nyrs     = yr2 - yr1  + 1\n",
    "    dstart   = str(yr1-1) + '-07-01'\n",
    "    dend     = str(yr2)   + \"-12-31\"\n",
    "    caldata  = pd.date_range(start=dstart,end=dend,freq=\"H\")\n",
    "    \n",
    "    return caldata\n",
    "\n",
    "def get_file_list(yr1, yr2):\n",
    "    data_dir = '/home/sbarc/wrf/wrf401/sbareg/'\n",
    "    years = list(range(yr1, yr2+1))\n",
    "    years = [str(year) for year in years]\n",
    "\n",
    "    files = []\n",
    "    for year in years:\n",
    "        year_files = sorted(glob.glob(data_dir + year + '/wrfout_d04_2DVar_*.nc'))\n",
    "        \n",
    "        # Remove the last two months in the directory\n",
    "        substrings = [f\"{year}-07\", f\"{year}-08\"]\n",
    "        year_files = [file for file in year_files if not any(sub in file for sub in substrings)]\n",
    "\n",
    "        files.append(year_files)\n",
    "\n",
    "    # Flatten list\n",
    "    files = [file for sublist in files for file in sublist]\n",
    "    \n",
    "    return files\n",
    "\n",
    "def extract_var(var, site_dict, files, caldata, terrain, i1, i2, j1, j2, year_range='', interp=False, outdir='~/data/wrf_extracted'):\n",
    "    #### Create stack of numpy rasters ####\n",
    "    mlat  = i2 - i1 + 1\n",
    "    mlon  = j2 - j1 + 1\n",
    "    mtot  = len(caldata)\n",
    "    np_stack  = np.zeros((mtot,mlat,mlon))\n",
    "\n",
    "    np_stack = build_np_stack(files, np_stack, caldata, var=var)\n",
    "\n",
    "    #### Cast numpy array stack to xarray dataset ####\n",
    "    darray = xr.DataArray(np_stack, dims =(\"times\",\"south_north\",\"west_east\"), name=var,     \n",
    "                     coords={\"times\":caldata,\"XLAT\":terrain['XLAT'],\"XLONG\":terrain['XLONG']})\n",
    "\n",
    "\n",
    "    #### Extract DataFrame ####\n",
    "    site = site_dict['name']\n",
    "    df  = extract_dataframe(darray, terrain, site_dict['xlat'], site_dict['xlon'], interp=interp)\n",
    "    \n",
    "    # Save out dataframe as pickle\n",
    "    out_fname = f'wrf_{site}_{var}_{year_range}.pkl'\n",
    "    df.to_pickle(os.path.join(outdir, out_fname))\n",
    "    print(f'{out_fname} saved...')\n",
    "    \n",
    "def agg_files(var_list, site, date_range, data_dir='~/data/wrf_extracted'):\n",
    "    #### Aggregate files to single pkl ####\n",
    "    var = var_list[0]\n",
    "    fname = f'wrf_{site}_{var}_{date_range}.pkl'\n",
    "    df = pd.read_pickle(os.path.join(data_dir, fname))\n",
    "\n",
    "    for var in var_list[1:]:\n",
    "        fname = f'wrf_{site}_{var}_{date_range}.pkl'\n",
    "        var_df = pd.read_pickle(os.path.join(data_dir, fname))\n",
    "        df = pd.concat([df, var_df], axis=1)\n",
    "\n",
    "    return df"
   ]
  },
  {
   "cell_type": "markdown",
   "metadata": {},
   "source": [
    "# Prepare Data "
   ]
  },
  {
   "cell_type": "markdown",
   "metadata": {},
   "source": [
    "## Prepare Terrain/Land Mask"
   ]
  },
  {
   "cell_type": "code",
   "execution_count": null,
   "metadata": {},
   "outputs": [],
   "source": [
    "#### \n",
    "#  Open geogrid file\n",
    "file     = '/home/sbarc/wrf/wrf401/sbareg/geo_em.d04.nc'\n",
    "ds       = xr.open_dataset(file)\n",
    "ds\n",
    "\n",
    "#   read one 2DVar file to get coordinates\n",
    "path     = '/home/sbarc/wrf/wrf401/sbareg/'\n",
    "yr1      = 1988\n",
    "m        = 0\n",
    "files    = sorted(glob.glob(path + str(yr1+m) + '/wrfout_d04_2DVar_*.nc'))\n",
    "f2       = xr.open_dataset(files[m])\n",
    "\n",
    "#   creat xarray\n",
    "terrain  = xr.DataArray(ds['HGT_M'][0,:,:].values, dims =(\"south_north\",\"west_east\"), name=\"terrain\",     \n",
    "                    coords={\"XLAT\":f2['XLAT'],\"XLONG\":f2['XLONG']},\n",
    "                    attrs ={'terrain':'elevation (m)'})\n",
    "#   creat landmask\n",
    "landmask = xr.DataArray(ds['LANDMASK'][0,:,:].values, dims =(\"south_north\",\"west_east\"), name=\"landmask\",     \n",
    "                    coords={\"XLAT\":f2['XLAT'],\"XLONG\":f2['XLONG']},\n",
    "                    attrs ={'landmask':'landmask (m)'})"
   ]
  },
  {
   "cell_type": "code",
   "execution_count": null,
   "metadata": {},
   "outputs": [],
   "source": [
    "f2"
   ]
  },
  {
   "cell_type": "markdown",
   "metadata": {},
   "source": [
    "## Select Domain to Crop"
   ]
  },
  {
   "cell_type": "code",
   "execution_count": null,
   "metadata": {},
   "outputs": [],
   "source": [
    "#### Define geographic domain ####\n",
    "i1 = 20\n",
    "i2 = 135\n",
    "j1 = 50\n",
    "j2 = 199"
   ]
  },
  {
   "cell_type": "code",
   "execution_count": null,
   "metadata": {},
   "outputs": [],
   "source": [
    "#### Crop terrain and landmask ####\n",
    "terrain  = terrain[i1:i2+1,j1:j2+1]\n",
    "landmask = landmask[i1:i2+1,j1:j2+1]\n",
    "landmask.shape"
   ]
  },
  {
   "cell_type": "markdown",
   "metadata": {},
   "source": [
    "# Extract data"
   ]
  },
  {
   "cell_type": "code",
   "execution_count": null,
   "metadata": {},
   "outputs": [],
   "source": [
    "# Define where to save data\n",
    "outdir = '~/data/wrf_extracted/interpolated_v2'\n",
    "\n",
    "# Define which variables to extract\n",
    "var_list = ['DFGDP', 'T2', 'Q2', 'PSFC', 'U10', 'V10', 'LWUPB', 'LWDNB', 'SWUPB', 'SWDNB']\n",
    "\n",
    "# Define whether to interpolate\n",
    "interp = True"
   ]
  },
  {
   "cell_type": "markdown",
   "metadata": {},
   "source": [
    "## NRS SCI"
   ]
  },
  {
   "cell_type": "code",
   "execution_count": 8,
   "metadata": {},
   "outputs": [
    {
     "name": "stdout",
     "output_type": "stream",
     "text": [
      "wrf_nrs_sci_DFGDP_2014-2019.pkl saved...\n",
      "wrf_nrs_sci_T2_2014-2019.pkl saved...\n",
      "wrf_nrs_sci_Q2_2014-2019.pkl saved...\n",
      "wrf_nrs_sci_PSFC_2014-2019.pkl saved...\n",
      "wrf_nrs_sci_U10_2014-2019.pkl saved...\n",
      "wrf_nrs_sci_V10_2014-2019.pkl saved...\n",
      "wrf_nrs_sci_LWUPB_2014-2019.pkl saved...\n",
      "wrf_nrs_sci_LWDNB_2014-2019.pkl saved...\n",
      "wrf_nrs_sci_SWUPB_2014-2019.pkl saved...\n",
      "wrf_nrs_sci_SWDNB_2014-2019.pkl saved...\n"
     ]
    }
   ],
   "source": [
    "#### Extract NRS SCI Files ####\n",
    "# Define Site\n",
    "site_dict = {\n",
    "    'name' : 'nrs_sci',\n",
    "    'xlat' : 33.995943,\n",
    "    'xlon' : -119.716437\n",
    "}\n",
    "\n",
    "# Define years to extract\n",
    "yr1 = 2014\n",
    "yr2 = 2019\n",
    "\n",
    "# Extract/Save Dataframe\n",
    "caldata = create_cal(yr1, yr2)\n",
    "files = get_file_list(yr1, yr2)\n",
    "\n",
    "for var in var_list:\n",
    "    extract_var(var, site_dict, files, caldata, terrain, i1, i2, j1, j2, year_range=f'{yr1}-{yr2}', interp=interp,  outdir=outdir)"
   ]
  },
  {
   "cell_type": "code",
   "execution_count": 9,
   "metadata": {},
   "outputs": [
    {
     "data": {
      "image/png": "[encoded data removed]",
      "text/plain": [
       "<Figure size 432x288 with 1 Axes>"
      ]
     },
     "metadata": {
      "needs_background": "light"
     },
     "output_type": "display_data"
    }
   ],
   "source": [
    "#### Aggregate Files ####\n",
    "df = agg_files(var_list, site_dict['name'], f'{yr1}-{yr2}', data_dir=outdir)\n",
    "RH = calc_RH(df['T2'], df['PSFC'], df['Q2']) # Derive relative humidity\n",
    "RH.loc[RH > 100] = 100  # Cap RH at 100\n",
    "df['RH'] = RH\n",
    "\n",
    "df['T2'].plot()\n",
    "plt.show()"
   ]
  },
  {
   "cell_type": "code",
   "execution_count": 10,
   "metadata": {},
   "outputs": [
    {
     "data": {
      "text/plain": [
       "<AxesSubplot:xlabel='times'>"
      ]
     },
     "execution_count": 10,
     "metadata": {},
     "output_type": "execute_result"
    },
    {
     "data": {
      "image/png": "[encoded data removed]",
      "text/plain": [
       "<Figure size 432x288 with 1 Axes>"
      ]
     },
     "metadata": {
      "needs_background": "light"
     },
     "output_type": "display_data"
    }
   ],
   "source": [
    "#### Trim out 0s ####\n",
    "df = df.loc[df['T2'] != 0]\n",
    "df['T2'].plot()"
   ]
  },
  {
   "cell_type": "code",
   "execution_count": 11,
   "metadata": {},
   "outputs": [
    {
     "name": "stdout",
     "output_type": "stream",
     "text": [
      "~/data/wrf_extracted/single_pixel/wrf_nrs_sci_2014-2019.pkl\n"
     ]
    }
   ],
   "source": [
    "#### Save out clean df ####\n",
    "site = site_dict['name']\n",
    "outfile_fname = f'wrf_{site}_{yr1}-{yr2}.pkl'\n",
    "df.to_pickle(os.path.join(outdir, outfile_fname))\n",
    "print(os.path.join(outdir, outfile_fname))"
   ]
  },
  {
   "cell_type": "markdown",
   "metadata": {},
   "source": [
    "## SAUC"
   ]
  },
  {
   "cell_type": "code",
   "execution_count": 12,
   "metadata": {},
   "outputs": [
    {
     "name": "stdout",
     "output_type": "stream",
     "text": [
      "wrf_sauc_DFGDP_2003-2010.pkl saved...\n",
      "wrf_sauc_T2_2003-2010.pkl saved...\n",
      "wrf_sauc_Q2_2003-2010.pkl saved...\n",
      "wrf_sauc_PSFC_2003-2010.pkl saved...\n",
      "wrf_sauc_U10_2003-2010.pkl saved...\n",
      "wrf_sauc_V10_2003-2010.pkl saved...\n",
      "wrf_sauc_LWUPB_2003-2010.pkl saved...\n",
      "wrf_sauc_LWDNB_2003-2010.pkl saved...\n",
      "wrf_sauc_SWUPB_2003-2010.pkl saved...\n",
      "wrf_sauc_SWDNB_2003-2010.pkl saved...\n"
     ]
    }
   ],
   "source": [
    "#### Extract SAUC Files ####\n",
    "# Define Site\n",
    "site_dict = {\n",
    "    'name' : 'sauc',\n",
    "    'xlat' : 34.001033,\n",
    "    'xlon' : -119.817817\n",
    "}\n",
    "\n",
    "# Define years to extract\n",
    "yr1 = 2003\n",
    "yr2 = 2010\n",
    "\n",
    "# Extract/Save Dataframe\n",
    "caldata = create_cal(yr1, yr2)\n",
    "files = get_file_list(yr1, yr2)\n",
    "for var in var_list:\n",
    "    extract_var(var, site_dict, files, caldata, terrain, i1, i2, j1, j2, year_range=f'{yr1}-{yr2}', interp=interp, outdir=outdir)\n"
   ]
  },
  {
   "cell_type": "code",
   "execution_count": 13,
   "metadata": {},
   "outputs": [
    {
     "data": {
      "image/png": "[encoded data removed]",
      "text/plain": [
       "<Figure size 432x288 with 1 Axes>"
      ]
     },
     "metadata": {
      "needs_background": "light"
     },
     "output_type": "display_data"
    }
   ],
   "source": [
    "df = agg_files(var_list, site_dict['name'], f'{yr1}-{yr2}', data_dir=outdir)\n",
    "RH = calc_RH(df['T2'], df['PSFC'], df['Q2'])\n",
    "RH.loc[RH > 100] = 100  # Cap RH at 100\n",
    "df['RH'] = RH\n",
    "\n",
    "df['T2'].plot()\n",
    "plt.show()"
   ]
  },
  {
   "cell_type": "code",
   "execution_count": 14,
   "metadata": {},
   "outputs": [
    {
     "data": {
      "text/plain": [
       "<AxesSubplot:xlabel='times'>"
      ]
     },
     "execution_count": 14,
     "metadata": {},
     "output_type": "execute_result"
    },
    {
     "data": {
      "image/png": "[encoded data removed]",
      "text/plain": [
       "<Figure size 432x288 with 1 Axes>"
      ]
     },
     "metadata": {
      "needs_background": "light"
     },
     "output_type": "display_data"
    }
   ],
   "source": [
    "#### Trim out 0s ####\n",
    "df = df.loc[df['T2'] != 0]\n",
    "df['T2'].plot()"
   ]
  },
  {
   "cell_type": "code",
   "execution_count": 15,
   "metadata": {},
   "outputs": [
    {
     "name": "stdout",
     "output_type": "stream",
     "text": [
      "~/data/wrf_extracted/single_pixel/wrf_sauc_2003-2010.pkl\n"
     ]
    }
   ],
   "source": [
    "#### Save out clean df ####\n",
    "outfile_fname = f\"wrf_{site_dict['name']}_{yr1}-{yr2}.pkl\"\n",
    "df.to_pickle(os.path.join(outdir, outfile_fname))\n",
    "print(os.path.join(outdir, outfile_fname))"
   ]
  },
  {
   "cell_type": "markdown",
   "metadata": {},
   "source": [
    "## UPEM "
   ]
  },
  {
   "cell_type": "code",
   "execution_count": 24,
   "metadata": {},
   "outputs": [
    {
     "name": "stdout",
     "output_type": "stream",
     "text": [
      "wrf_upem_DFGDP_2003-2010.pkl saved...\n",
      "wrf_upem_T2_2003-2010.pkl saved...\n",
      "wrf_upem_Q2_2003-2010.pkl saved...\n",
      "wrf_upem_PSFC_2003-2010.pkl saved...\n",
      "wrf_upem_U10_2003-2010.pkl saved...\n",
      "wrf_upem_V10_2003-2010.pkl saved...\n",
      "wrf_upem_LWUPB_2003-2010.pkl saved...\n",
      "wrf_upem_LWDNB_2003-2010.pkl saved...\n",
      "wrf_upem_SWUPB_2003-2010.pkl saved...\n",
      "wrf_upem_SWDNB_2003-2010.pkl saved...\n"
     ]
    }
   ],
   "source": [
    "#### Extract UPEM Files ####\n",
    "# Define Site\n",
    "site_dict = {\n",
    "    'name' : 'upem',\n",
    "    'xlat' : 34.012531,\n",
    "    'xlon' : -119.801828\n",
    "}\n",
    "\n",
    "# Define years to extract\n",
    "yr1 = 2003\n",
    "yr2 = 2010\n",
    "\n",
    "# Extract/Save Dataframe\n",
    "caldata = create_cal(yr1, yr2)\n",
    "files = get_file_list(yr1, yr2)\n",
    "for var in var_list:\n",
    "    extract_var(var, site_dict, files, caldata, terrain, i1, i2, j1, j2, year_range=f'{yr1}-{yr2}', interp=interp, outdir=outdir)\n",
    "\n"
   ]
  },
  {
   "cell_type": "code",
   "execution_count": 25,
   "metadata": {},
   "outputs": [
    {
     "data": {
      "image/png": "[encoded data removed]",
      "text/plain": [
       "<Figure size 432x288 with 1 Axes>"
      ]
     },
     "metadata": {
      "needs_background": "light"
     },
     "output_type": "display_data"
    }
   ],
   "source": [
    "#### Aggregate Files ####\n",
    "df = agg_files(var_list, site_dict['name'], f'{yr1}-{yr2}', data_dir=outdir)\n",
    "RH = calc_RH(df['T2'], df['PSFC'], df['Q2'])\n",
    "RH.loc[RH > 100] = 100  # Cap RH at 100\n",
    "df['RH'] = RH\n",
    "\n",
    "df['T2'].plot()\n",
    "plt.show()"
   ]
  },
  {
   "cell_type": "code",
   "execution_count": 26,
   "metadata": {},
   "outputs": [
    {
     "data": {
      "text/plain": [
       "<AxesSubplot:xlabel='times'>"
      ]
     },
     "execution_count": 26,
     "metadata": {},
     "output_type": "execute_result"
    },
    {
     "data": {
      "image/png": "[encoded data removed]",
      "text/plain": [
       "<Figure size 432x288 with 1 Axes>"
      ]
     },
     "metadata": {
      "needs_background": "light"
     },
     "output_type": "display_data"
    }
   ],
   "source": [
    "#### Trim out 0s ####\n",
    "df = df.loc[df['T2'] != 0]\n",
    "df['T2'].plot()"
   ]
  },
  {
   "cell_type": "code",
   "execution_count": 27,
   "metadata": {},
   "outputs": [
    {
     "name": "stdout",
     "output_type": "stream",
     "text": [
      "~/data/wrf_extracted/single_pixel/wrf_upem_2003-2010.pkl\n"
     ]
    }
   ],
   "source": [
    "#### Save out clean df ####\n",
    "outfile_fname = f\"wrf_{site_dict['name']}_{yr1}-{yr2}.pkl\"\n",
    "df.to_pickle(os.path.join(outdir, outfile_fname))\n",
    "print(os.path.join(outdir, outfile_fname))\n"
   ]
  },
  {
   "cell_type": "markdown",
   "metadata": {},
   "source": [
    "## SCI RAWS"
   ]
  },
  {
   "cell_type": "code",
   "execution_count": null,
   "metadata": {},
   "outputs": [],
   "source": [
    "#### Extract SAUC Files ####\n",
    "# Define Site\n",
    "site_dict = {\n",
    "    'name' : 'raws_sci',\n",
    "    'xlat' : 33.992981,\n",
    "    'xlon' : -119.716264\n",
    "    \n",
    "}\n",
    "\n",
    "# Define years to extract\n",
    "yr1 = 2000\n",
    "yr2 = 2019\n",
    "\n",
    "# Extract/Save Dataframe\n",
    "caldata = create_cal(yr1, yr2)\n",
    "files = get_file_list(yr1, yr2)\n",
    "for var in var_list:\n",
    "    extract_var(var, site_dict, files, caldata, terrain, i1, i2, j1, j2, year_range=f'{yr1}-{yr2}', interp=interp, outdir=outdir)\n",
    "\n"
   ]
  },
  {
   "cell_type": "code",
   "execution_count": null,
   "metadata": {},
   "outputs": [],
   "source": [
    "#### Aggregate Files ####\n",
    "df = agg_files(var_list, site_dict['name'], f'{yr1}-{yr2}', data_dir=outdir)\n",
    "RH = calc_RH(df['T2'], df['PSFC'], df['Q2'])\n",
    "RH.loc[RH > 100] = 100  # Cap RH at 100\n",
    "df['RH'] = RH\n",
    "\n",
    "df['T2'].plot()\n",
    "plt.show()"
   ]
  },
  {
   "cell_type": "code",
   "execution_count": null,
   "metadata": {},
   "outputs": [],
   "source": [
    "#### Trim out 0s ####\n",
    "df = df.loc[df['T2'] != 0]\n",
    "df['T2'].plot()"
   ]
  },
  {
   "cell_type": "code",
   "execution_count": null,
   "metadata": {},
   "outputs": [],
   "source": [
    "#### Save out clean df ####\n",
    "outfile_fname = f\"wrf_{site_dict['name']}_{yr1}-{yr2}.pkl\"\n",
    "df.to_pickle(os.path.join(outdir, outfile_fname))\n",
    "print(os.path.join(outdir, outfile_fname))"
   ]
  }
 ],
 "metadata": {
  "kernelspec": {
   "display_name": "Python 3",
   "language": "python",
   "name": "python3"
  },
  "language_info": {
   "codemirror_mode": {
    "name": "ipython",
    "version": 3
   },
   "file_extension": ".py",
   "mimetype": "text/x-python",
   "name": "python",
   "nbconvert_exporter": "python",
   "pygments_lexer": "ipython3",
   "version": "3.6.8"
  }
 },
 "nbformat": 4,
 "nbformat_minor": 4
}
